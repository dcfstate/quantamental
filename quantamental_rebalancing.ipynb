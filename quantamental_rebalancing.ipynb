{
  "nbformat": 4,
  "nbformat_minor": 0,
  "metadata": {
    "colab": {
      "name": "quantamental rebalancing",
      "provenance": [],
      "collapsed_sections": []
    },
    "kernelspec": {
      "name": "python3",
      "display_name": "Python 3"
    },
    "accelerator": "GPU"
  },
  "cells": [
    {
      "cell_type": "code",
      "metadata": {
        "colab": {
          "base_uri": "https://localhost:8080/"
        },
        "id": "keNu79-6zFl6",
        "outputId": "f88b0169-d1d2-413d-8f31-f830ccfb025f"
      },
      "source": [
        "!pip3 install dcor\r\n",
        "!pip3 install networkx\r\n",
        "!pip3 install PyPortfolioOpt\r\n",
        "!pip3 install alpaca-trade-api\r\n",
        "!pip3 install trading-calendars\r\n",
        "\r\n",
        "\r\n",
        "import alpaca_trade_api as tradeapi\r\n",
        "import requests, json\r\n",
        "\r\n",
        "import dcor\r\n",
        "import networkx as nx\r\n",
        "from pypfopt import discrete_allocation\r\n",
        "from pypfopt.expected_returns import mean_historical_return\r\n",
        "from pypfopt.efficient_frontier import EfficientFrontier\r\n",
        "\r\n",
        "import sklearn\r\n",
        "from sklearn.metrics import mean_squared_error\r\n",
        "\r\n",
        "import tensorflow as tf\r\n",
        "from tensorflow.keras import Sequential\r\n",
        "from tensorflow.keras.layers import Dense, LSTM, Dropout\r\n",
        "\r\n",
        "import pandas as pd\r\n",
        "import numpy as np\r\n",
        "from datetime import datetime\r\n",
        "from datetime import date\r\n",
        "import pytz\r\n",
        "import matplotlib.pyplot as plt\r\n",
        "import seaborn as sns\r\n",
        "%matplotlib inline\r\n",
        "import warnings\r\n",
        "warnings.filterwarnings(\"ignore\")"
      ],
      "execution_count": 1,
      "outputs": [
        {
          "output_type": "stream",
          "text": [
            "Collecting dcor\n",
            "  Downloading https://files.pythonhosted.org/packages/91/43/2e2a4acb8fcac32b2702cc0a17b80d66b7453994744d226640d3a349c735/dcor-0.5.2-py2.py3-none-any.whl\n",
            "Collecting numba>=0.51\n",
            "\u001b[?25l  Downloading https://files.pythonhosted.org/packages/60/a5/a065e1e23a5ced6da6628bba7efec4de98f8970a59e034bb0639866631da/numba-0.52.0-cp36-cp36m-manylinux2014_x86_64.whl (3.1MB)\n",
            "\u001b[K     |████████████████████████████████| 3.2MB 10.6MB/s \n",
            "\u001b[?25hRequirement already satisfied: numpy in /usr/local/lib/python3.6/dist-packages (from dcor) (1.19.5)\n",
            "Requirement already satisfied: setuptools in /usr/local/lib/python3.6/dist-packages (from dcor) (51.1.2)\n",
            "Requirement already satisfied: scipy in /usr/local/lib/python3.6/dist-packages (from dcor) (1.4.1)\n",
            "Collecting llvmlite<0.36,>=0.35.0\n",
            "\u001b[?25l  Downloading https://files.pythonhosted.org/packages/9f/94/f05040ee3ec199c827a38426d78d0af9274c1e18ec9a592bb40954c952c8/llvmlite-0.35.0-cp36-cp36m-manylinux2010_x86_64.whl (25.3MB)\n",
            "\u001b[K     |████████████████████████████████| 25.3MB 1.3MB/s \n",
            "\u001b[?25hInstalling collected packages: llvmlite, numba, dcor\n",
            "  Found existing installation: llvmlite 0.31.0\n",
            "    Uninstalling llvmlite-0.31.0:\n",
            "      Successfully uninstalled llvmlite-0.31.0\n",
            "  Found existing installation: numba 0.48.0\n",
            "    Uninstalling numba-0.48.0:\n",
            "      Successfully uninstalled numba-0.48.0\n",
            "Successfully installed dcor-0.5.2 llvmlite-0.35.0 numba-0.52.0\n",
            "Requirement already satisfied: networkx in /usr/local/lib/python3.6/dist-packages (2.5)\n",
            "Requirement already satisfied: decorator>=4.3.0 in /usr/local/lib/python3.6/dist-packages (from networkx) (4.4.2)\n",
            "Collecting PyPortfolioOpt\n",
            "\u001b[?25l  Downloading https://files.pythonhosted.org/packages/f9/19/1f903f95e2acb95dc4b4275278a7b9f0b2cdae387d815d6219ffb46d6576/PyPortfolioOpt-1.2.7-py3-none-any.whl (48kB)\n",
            "\u001b[K     |████████████████████████████████| 51kB 7.7MB/s \n",
            "\u001b[?25hRequirement already satisfied: pandas>=0.19 in /usr/local/lib/python3.6/dist-packages (from PyPortfolioOpt) (1.1.5)\n",
            "Requirement already satisfied: scipy<2.0,>=1.3 in /usr/local/lib/python3.6/dist-packages (from PyPortfolioOpt) (1.4.1)\n",
            "Requirement already satisfied: cvxpy<2.0,>=1.0 in /usr/local/lib/python3.6/dist-packages (from PyPortfolioOpt) (1.0.31)\n",
            "Requirement already satisfied: numpy<2.0,>=1.12 in /usr/local/lib/python3.6/dist-packages (from PyPortfolioOpt) (1.19.5)\n",
            "Requirement already satisfied: cvxopt<2.0,>=1.2 in /usr/local/lib/python3.6/dist-packages (from PyPortfolioOpt) (1.2.5)\n",
            "Requirement already satisfied: python-dateutil>=2.7.3 in /usr/local/lib/python3.6/dist-packages (from pandas>=0.19->PyPortfolioOpt) (2.8.1)\n",
            "Requirement already satisfied: pytz>=2017.2 in /usr/local/lib/python3.6/dist-packages (from pandas>=0.19->PyPortfolioOpt) (2018.9)\n",
            "Requirement already satisfied: multiprocess in /usr/local/lib/python3.6/dist-packages (from cvxpy<2.0,>=1.0->PyPortfolioOpt) (0.70.11.1)\n",
            "Requirement already satisfied: scs>=1.1.3 in /usr/local/lib/python3.6/dist-packages (from cvxpy<2.0,>=1.0->PyPortfolioOpt) (2.1.2)\n",
            "Requirement already satisfied: osqp>=0.4.1 in /usr/local/lib/python3.6/dist-packages (from cvxpy<2.0,>=1.0->PyPortfolioOpt) (0.6.2)\n",
            "Requirement already satisfied: ecos>=2 in /usr/local/lib/python3.6/dist-packages (from cvxpy<2.0,>=1.0->PyPortfolioOpt) (2.0.7.post1)\n",
            "Requirement already satisfied: six>=1.5 in /usr/local/lib/python3.6/dist-packages (from python-dateutil>=2.7.3->pandas>=0.19->PyPortfolioOpt) (1.15.0)\n",
            "Requirement already satisfied: dill>=0.3.3 in /usr/local/lib/python3.6/dist-packages (from multiprocess->cvxpy<2.0,>=1.0->PyPortfolioOpt) (0.3.3)\n",
            "Requirement already satisfied: qdldl in /usr/local/lib/python3.6/dist-packages (from osqp>=0.4.1->cvxpy<2.0,>=1.0->PyPortfolioOpt) (0.1.5.post0)\n",
            "Installing collected packages: PyPortfolioOpt\n",
            "Successfully installed PyPortfolioOpt-1.2.7\n",
            "Collecting alpaca-trade-api\n",
            "  Downloading https://files.pythonhosted.org/packages/64/95/df68a3c3cae4d725d9157a33e78c1f2296381641b1278c8447d1faecfe01/alpaca_trade_api-0.52.0-py3-none-any.whl\n",
            "Requirement already satisfied: pandas in /usr/local/lib/python3.6/dist-packages (from alpaca-trade-api) (1.1.5)\n",
            "Collecting websockets<9,>=8.0\n",
            "\u001b[?25l  Downloading https://files.pythonhosted.org/packages/bb/d9/856af84843912e2853b1b6e898ac8b802989fcf9ecf8e8445a1da263bf3b/websockets-8.1-cp36-cp36m-manylinux2010_x86_64.whl (78kB)\n",
            "\u001b[K     |████████████████████████████████| 81kB 9.6MB/s \n",
            "\u001b[?25hCollecting websocket-client<1,>=0.56.0\n",
            "\u001b[?25l  Downloading https://files.pythonhosted.org/packages/4c/5f/f61b420143ed1c8dc69f9eaec5ff1ac36109d52c80de49d66e0c36c3dfdf/websocket_client-0.57.0-py2.py3-none-any.whl (200kB)\n",
            "\u001b[K     |████████████████████████████████| 204kB 23.9MB/s \n",
            "\u001b[?25hRequirement already satisfied: requests<3,>2 in /usr/local/lib/python3.6/dist-packages (from alpaca-trade-api) (2.23.0)\n",
            "Requirement already satisfied: numpy in /usr/local/lib/python3.6/dist-packages (from alpaca-trade-api) (1.19.5)\n",
            "Requirement already satisfied: urllib3<2,>1.24 in /usr/local/lib/python3.6/dist-packages (from alpaca-trade-api) (1.24.3)\n",
            "Requirement already satisfied: pytz>=2017.2 in /usr/local/lib/python3.6/dist-packages (from pandas->alpaca-trade-api) (2018.9)\n",
            "Requirement already satisfied: python-dateutil>=2.7.3 in /usr/local/lib/python3.6/dist-packages (from pandas->alpaca-trade-api) (2.8.1)\n",
            "Requirement already satisfied: six in /usr/local/lib/python3.6/dist-packages (from websocket-client<1,>=0.56.0->alpaca-trade-api) (1.15.0)\n",
            "Requirement already satisfied: idna<3,>=2.5 in /usr/local/lib/python3.6/dist-packages (from requests<3,>2->alpaca-trade-api) (2.10)\n",
            "Requirement already satisfied: certifi>=2017.4.17 in /usr/local/lib/python3.6/dist-packages (from requests<3,>2->alpaca-trade-api) (2020.12.5)\n",
            "Requirement already satisfied: chardet<4,>=3.0.2 in /usr/local/lib/python3.6/dist-packages (from requests<3,>2->alpaca-trade-api) (3.0.4)\n",
            "Installing collected packages: websockets, websocket-client, alpaca-trade-api\n",
            "Successfully installed alpaca-trade-api-0.52.0 websocket-client-0.57.0 websockets-8.1\n",
            "Collecting trading-calendars\n",
            "\u001b[?25l  Downloading https://files.pythonhosted.org/packages/1e/6e/613df8268dea3aac81d3b9d9872d4e48526f8650e970ca1d14911f02dad0/trading_calendars-2.1.1.tar.gz (108kB)\n",
            "\u001b[K     |████████████████████████████████| 112kB 23.5MB/s \n",
            "\u001b[?25hRequirement already satisfied: numpy in /usr/local/lib/python3.6/dist-packages (from trading-calendars) (1.19.5)\n",
            "Requirement already satisfied: pandas in /usr/local/lib/python3.6/dist-packages (from trading-calendars) (1.1.5)\n",
            "Requirement already satisfied: python-dateutil in /usr/local/lib/python3.6/dist-packages (from trading-calendars) (2.8.1)\n",
            "Requirement already satisfied: pytz in /usr/local/lib/python3.6/dist-packages (from trading-calendars) (2018.9)\n",
            "Requirement already satisfied: six in /usr/local/lib/python3.6/dist-packages (from trading-calendars) (1.15.0)\n",
            "Requirement already satisfied: toolz in /usr/local/lib/python3.6/dist-packages (from trading-calendars) (0.11.1)\n",
            "Building wheels for collected packages: trading-calendars\n",
            "  Building wheel for trading-calendars (setup.py) ... \u001b[?25l\u001b[?25hdone\n",
            "  Created wheel for trading-calendars: filename=trading_calendars-2.1.1-cp36-none-any.whl size=140920 sha256=f32a296694d8b7e47778cd14a895056170baca84f798fd2360003b01a0af9cba\n",
            "  Stored in directory: /root/.cache/pip/wheels/79/92/44/de8b4d9a7d86cd8f67ea3adfa91bdc7bd441c691b733418cca\n",
            "Successfully built trading-calendars\n",
            "Installing collected packages: trading-calendars\n",
            "Successfully installed trading-calendars-2.1.1\n"
          ],
          "name": "stdout"
        },
        {
          "output_type": "stream",
          "text": [
            "/usr/local/lib/python3.6/dist-packages/numba/np/ufunc/parallel.py:363: NumbaWarning: The TBB threading layer requires TBB version 2019.5 or later i.e., TBB_INTERFACE_VERSION >= 11005. Found TBB_INTERFACE_VERSION = 9107. The TBB threading layer is disabled.\n",
            "  warnings.warn(problem)\n"
          ],
          "name": "stderr"
        }
      ]
    },
    {
      "cell_type": "markdown",
      "metadata": {
        "id": "QEa2u4-cELJB"
      },
      "source": [
        "Hyperparameters"
      ]
    },
    {
      "cell_type": "code",
      "metadata": {
        "id": "N4Xe4JZl6vsy"
      },
      "source": [
        "#Put your target companies in \"target_list\"\r\n",
        "target_list = ['AMZN', 'MA', 'GOOG', 'ADBE', 'MSFT', 'AAPL', 'V', 'DIS', 'DPZ', 'PYPL', 'FB', 'COST']\r\n",
        "\r\n",
        "#Start date for \r\n",
        "start_date = '2018-01-01'\r\n",
        "\r\n",
        "APCA_API_KEY_ID = 'PKCHJEA5FAGJ76MD8QNK'\r\n",
        "APCA_API_SECRET_KEY = 'KN9dNepezJveDSZEho8bWmGAvwXXPxM5CLxTUCsf'\r\n",
        "BASE_URL = 'https://paper-api.alpaca.markets'\r\n",
        "\r\n",
        "now = datetime.now(pytz.timezone('US/Eastern'))\r\n",
        "lookback = 60\r\n",
        "\r\n",
        "training_pct = 1.0"
      ],
      "execution_count": 16,
      "outputs": []
    },
    {
      "cell_type": "code",
      "metadata": {
        "id": "X7sLbrRjVouR"
      },
      "source": [
        "#############################################################################\r\n",
        "def df_distance_correlation(df_train):\r\n",
        "    df_train_dcor = pd.DataFrame(index=stocks, columns=stocks)\r\n",
        "    k=0\r\n",
        "\r\n",
        "    for i in stocks:\r\n",
        "        v_i = df_train.loc[:, i].values\r\n",
        "        for j in stocks[k:]:\r\n",
        "            v_j = df_train.loc[:, j].values\r\n",
        "            dcor_val = dcor.distance_correlation(v_i, v_j)\r\n",
        "            df_train_dcor.at[i,j] = dcor_val\r\n",
        "            df_train_dcor.at[j,i] = dcor_val\r\n",
        "        k+=1\r\n",
        "\r\n",
        "    return df_train_dcor\r\n",
        "#############################################################################\r\n",
        "def build_corr_nx(df_train):\r\n",
        "    cor_matrix = df_train.values.astype('float')\r\n",
        "    sim_matrix = 1 - cor_matrix\r\n",
        "    \r\n",
        "    G = nx.from_numpy_matrix(sim_matrix)\r\n",
        "    stock_names = df_train.index.values\r\n",
        "    G = nx.relabel_nodes(G, lambda x: stock_names[x])\r\n",
        "\r\n",
        "    G.edges(data=True)\r\n",
        "    H = G.copy()\r\n",
        "    \r\n",
        "    for (u, v, wt) in G.edges.data('weight'):\r\n",
        "        if wt >= 1 - 0.325:\r\n",
        "#hyperparameter\r\n",
        "            H.remove_edge(u, v)\r\n",
        "        if u == v:\r\n",
        "            H.remove_edge(u, v)\r\n",
        "     \r\n",
        "    return H\r\n",
        "#############################################################################\r\n",
        "def centrality_to_portfolio_weights(weights):\r\n",
        "    for key, value in weights.items():\r\n",
        "        weights[key] = 1/value\r\n",
        "    norm = 1.0 / sum(weights.values())\r\n",
        "\r\n",
        "    for key in weights:\r\n",
        "        weights[key] = round(weights[key] * norm, 3)\r\n",
        "    return weights\r\n",
        "#############################################################################\r\n",
        "def get_account():\r\n",
        "    r = requests.get(ACCOUNT_URL, headers=HEADERS)\r\n",
        "\r\n",
        "    return json.loads(r.content)\r\n",
        "#############################################################################\r\n",
        "def create_order(symbol, qty, side, type, time_in_force):\r\n",
        "    data = {\r\n",
        "        \"symbol\": symbol,\r\n",
        "        \"qty\": qty,\r\n",
        "        \"side\": side,\r\n",
        "        \"type\": type,\r\n",
        "        \"time_in_force\": time_in_force\r\n",
        "    }\r\n",
        "\r\n",
        "    r = requests.post(ORDERS_URL, json=data, headers=HEADERS)\r\n",
        "\r\n",
        "    return json.loads(r.content)\r\n",
        "#############################################################################\r\n",
        "def get_orders():\r\n",
        "    r = requests.get(ORDERS_URL, headers=HEADERS)\r\n",
        "\r\n",
        "    return json.loads(r.content)\r\n",
        "#############################################################################\r\n",
        "ACCOUNT_URL = \"{}/v2/account\".format(BASE_URL)\r\n",
        "ORDERS_URL = \"{}/v2/orders\".format(BASE_URL)\r\n",
        "HEADERS = {'APCA-API-KEY-ID': APCA_API_KEY_ID, 'APCA-API-SECRET-KEY': APCA_API_SECRET_KEY}\r\n",
        "api = tradeapi.REST(APCA_API_KEY_ID, APCA_API_SECRET_KEY, base_url=BASE_URL)\r\n",
        "account = api.get_account()\r\n",
        "today = date.today()\r\n",
        "clock = api.get_clock()\r\n",
        "#############################################################################"
      ],
      "execution_count": 2,
      "outputs": []
    },
    {
      "cell_type": "code",
      "metadata": {
        "id": "Orlvj37xnXe3"
      },
      "source": [
        "stuff = []\r\n",
        "for i in target_list:\r\n",
        "  globals()[i] =  api.polygon.historic_agg_v2(i , 1, 'day', _from=start_date, to=today).df\r\n",
        "  globals()[i]['Ticker'] = i\r\n",
        "  stuff.append(globals()[i])\r\n",
        "\r\n",
        "empty = stuff[0].iloc[:0,:]\r\n",
        "for i in range(0, len(stuff)):\r\n",
        "  empty = empty.append(stuff[i])\r\n",
        "\r\n",
        "\r\n",
        "empty_close = empty.pivot(columns='Ticker', values='close')\r\n",
        "empty_close_copy = empty_close.copy()\r\n",
        "\r\n",
        "data_training_raw, data_test_raw = np.split(empty_close, [int(training_pct*len(empty_close))])\r\n",
        "array_data_training = empty_close.values\r\n",
        "\r\n",
        "date_index = pd.DataFrame(data_training_raw.index)\r\n",
        "for i in range(0, len(date_index)):\r\n",
        "  date_index.iloc[i,0] = date_index.iloc[i,0].date()\r\n",
        "\r\n",
        "date_index = date_index[lookback:]\r\n",
        "date_index = date_index.reset_index().iloc[:,1:]\r\n",
        "date_index.loc[len(date_index)] = clock.next_open.date()"
      ],
      "execution_count": 17,
      "outputs": []
    },
    {
      "cell_type": "code",
      "metadata": {
        "colab": {
          "base_uri": "https://localhost:8080/"
        },
        "id": "JEQ3UY8vyag8",
        "outputId": "e72a8fea-c898-4cc4-9da4-6327aea73b01"
      },
      "source": [
        "historical_prices_plus_one = date_index\r\n",
        "\r\n",
        "for c in range(0, len(target_list)):\r\n",
        "      X_train = []\r\n",
        "      y_train = []\r\n",
        "\r\n",
        "      print(target_list[c])\r\n",
        "\r\n",
        "      for i in range(lookback, array_data_training.shape[0]):\r\n",
        "          X_train.append(array_data_training[i-lookback:i])\r\n",
        "          y_train.append(array_data_training[i, c])\r\n",
        "\r\n",
        "      X_train, y_train = np.asarray(X_train).astype('float32'), np.asarray(y_train).astype('float32')\r\n",
        "      X_train, y_train = np.array(X_train), np.array(y_train)\r\n",
        " \r\n",
        "\r\n",
        "      model = Sequential()\r\n",
        "      model.add(LSTM(units = 60, activation = 'tanh', return_sequences = True, input_shape = (X_train.shape[1], X_train.shape[2])))\r\n",
        "      model.add(Dropout(0.5))\r\n",
        "      model.add(LSTM(units = 60, activation = 'tanh', return_sequences = True))\r\n",
        "      model.add(Dropout(0.5))\r\n",
        "      model.add(LSTM(units = 80, activation = 'tanh', return_sequences = True))\r\n",
        "      model.add(Dropout(0.5))\r\n",
        "      model.add(LSTM(units = 120, activation = 'tanh'))\r\n",
        "      model.add(Dropout(0.5))\r\n",
        "      model.add(Dense(units = 1))\r\n",
        "\r\n",
        "      model.compile(optimizer='sgd', loss = 'mean_squared_error')\r\n",
        "      model.fit(X_train, y_train, epochs=1, batch_size=64, verbose=0)\r\n",
        "\r\n",
        "      inputs = np.array(data_training_raw.tail(lookback))\r\n",
        "      inputs_reshaped = inputs.reshape(1, inputs.shape[0], inputs.shape[1])\r\n",
        "\r\n",
        "      y_pred = model.predict(inputs_reshaped)\r\n",
        "      \r\n",
        "      new_shit = np.append(y_train, y_pred)\r\n",
        "      new_shit_df = pd.DataFrame(data=new_shit)\r\n",
        "      historical_prices_plus_one[target_list[c]] = new_shit_df\r\n",
        "\r\n",
        "df_train_close = historical_prices_plus_one.set_index(\"timestamp\")\r\n",
        "df_train_close.index = pd.to_datetime(df_train_close.index)"
      ],
      "execution_count": 18,
      "outputs": [
        {
          "output_type": "stream",
          "text": [
            "AMZN\n",
            "MA\n",
            "GOOG\n",
            "ADBE\n",
            "MSFT\n",
            "WARNING:tensorflow:5 out of the last 5 calls to <function Model.make_predict_function.<locals>.predict_function at 0x7ff84a1c6840> triggered tf.function retracing. Tracing is expensive and the excessive number of tracings could be due to (1) creating @tf.function repeatedly in a loop, (2) passing tensors with different shapes, (3) passing Python objects instead of tensors. For (1), please define your @tf.function outside of the loop. For (2), @tf.function has experimental_relax_shapes=True option that relaxes argument shapes that can avoid unnecessary retracing. For (3), please refer to https://www.tensorflow.org/guide/function#controlling_retracing and https://www.tensorflow.org/api_docs/python/tf/function for  more details.\n",
            "AAPL\n",
            "WARNING:tensorflow:6 out of the last 6 calls to <function Model.make_predict_function.<locals>.predict_function at 0x7ff84b3d70d0> triggered tf.function retracing. Tracing is expensive and the excessive number of tracings could be due to (1) creating @tf.function repeatedly in a loop, (2) passing tensors with different shapes, (3) passing Python objects instead of tensors. For (1), please define your @tf.function outside of the loop. For (2), @tf.function has experimental_relax_shapes=True option that relaxes argument shapes that can avoid unnecessary retracing. For (3), please refer to https://www.tensorflow.org/guide/function#controlling_retracing and https://www.tensorflow.org/api_docs/python/tf/function for  more details.\n",
            "V\n",
            "WARNING:tensorflow:7 out of the last 7 calls to <function Model.make_predict_function.<locals>.predict_function at 0x7ff842321510> triggered tf.function retracing. Tracing is expensive and the excessive number of tracings could be due to (1) creating @tf.function repeatedly in a loop, (2) passing tensors with different shapes, (3) passing Python objects instead of tensors. For (1), please define your @tf.function outside of the loop. For (2), @tf.function has experimental_relax_shapes=True option that relaxes argument shapes that can avoid unnecessary retracing. For (3), please refer to https://www.tensorflow.org/guide/function#controlling_retracing and https://www.tensorflow.org/api_docs/python/tf/function for  more details.\n",
            "DIS\n",
            "WARNING:tensorflow:8 out of the last 8 calls to <function Model.make_predict_function.<locals>.predict_function at 0x7ff842321ae8> triggered tf.function retracing. Tracing is expensive and the excessive number of tracings could be due to (1) creating @tf.function repeatedly in a loop, (2) passing tensors with different shapes, (3) passing Python objects instead of tensors. For (1), please define your @tf.function outside of the loop. For (2), @tf.function has experimental_relax_shapes=True option that relaxes argument shapes that can avoid unnecessary retracing. For (3), please refer to https://www.tensorflow.org/guide/function#controlling_retracing and https://www.tensorflow.org/api_docs/python/tf/function for  more details.\n",
            "DPZ\n",
            "WARNING:tensorflow:9 out of the last 9 calls to <function Model.make_predict_function.<locals>.predict_function at 0x7ff852209730> triggered tf.function retracing. Tracing is expensive and the excessive number of tracings could be due to (1) creating @tf.function repeatedly in a loop, (2) passing tensors with different shapes, (3) passing Python objects instead of tensors. For (1), please define your @tf.function outside of the loop. For (2), @tf.function has experimental_relax_shapes=True option that relaxes argument shapes that can avoid unnecessary retracing. For (3), please refer to https://www.tensorflow.org/guide/function#controlling_retracing and https://www.tensorflow.org/api_docs/python/tf/function for  more details.\n",
            "PYPL\n",
            "WARNING:tensorflow:10 out of the last 10 calls to <function Model.make_predict_function.<locals>.predict_function at 0x7ff84aa366a8> triggered tf.function retracing. Tracing is expensive and the excessive number of tracings could be due to (1) creating @tf.function repeatedly in a loop, (2) passing tensors with different shapes, (3) passing Python objects instead of tensors. For (1), please define your @tf.function outside of the loop. For (2), @tf.function has experimental_relax_shapes=True option that relaxes argument shapes that can avoid unnecessary retracing. For (3), please refer to https://www.tensorflow.org/guide/function#controlling_retracing and https://www.tensorflow.org/api_docs/python/tf/function for  more details.\n",
            "FB\n",
            "WARNING:tensorflow:11 out of the last 11 calls to <function Model.make_predict_function.<locals>.predict_function at 0x7ff8427bb950> triggered tf.function retracing. Tracing is expensive and the excessive number of tracings could be due to (1) creating @tf.function repeatedly in a loop, (2) passing tensors with different shapes, (3) passing Python objects instead of tensors. For (1), please define your @tf.function outside of the loop. For (2), @tf.function has experimental_relax_shapes=True option that relaxes argument shapes that can avoid unnecessary retracing. For (3), please refer to https://www.tensorflow.org/guide/function#controlling_retracing and https://www.tensorflow.org/api_docs/python/tf/function for  more details.\n",
            "COST\n",
            "WARNING:tensorflow:11 out of the last 11 calls to <function Model.make_predict_function.<locals>.predict_function at 0x7ff84b11d048> triggered tf.function retracing. Tracing is expensive and the excessive number of tracings could be due to (1) creating @tf.function repeatedly in a loop, (2) passing tensors with different shapes, (3) passing Python objects instead of tensors. For (1), please define your @tf.function outside of the loop. For (2), @tf.function has experimental_relax_shapes=True option that relaxes argument shapes that can avoid unnecessary retracing. For (3), please refer to https://www.tensorflow.org/guide/function#controlling_retracing and https://www.tensorflow.org/api_docs/python/tf/function for  more details.\n"
          ],
          "name": "stdout"
        }
      ]
    },
    {
      "cell_type": "code",
      "metadata": {
        "id": "qivDgCIh9DyT"
      },
      "source": [
        "df_train_close_copy = df_train_close.copy()\r\n",
        "stocks = df_train_close.columns.tolist()\r\n",
        "\r\n",
        "df_train_list = [df_train_close]\r\n",
        "\r\n",
        "for df in df_train_list:\r\n",
        "    for s in stocks:\r\n",
        "        df[s] = df[s].diff()\r\n",
        "#redundant if you normalize from the get go @ LSTM input stage by taking pct change\r\n",
        "\r\n",
        "for df in df_train_list:\r\n",
        "    df.dropna(inplace=True)\r\n",
        "\r\n",
        "df_buy_in = df_train_close_copy.loc[today.strftime(\"%Y-%m-%d\")].sort_index().to_frame('Buy In')"
      ],
      "execution_count": 19,
      "outputs": []
    },
    {
      "cell_type": "code",
      "metadata": {
        "id": "nMZKgywz-kYU"
      },
      "source": [
        "df_train_dcor_list = [df_distance_correlation(df) for df in df_train_list]\r\n",
        "H_close = build_corr_nx(df_train_dcor_list[0])\r\n",
        "H_master = H_close"
      ],
      "execution_count": 20,
      "outputs": []
    },
    {
      "cell_type": "code",
      "metadata": {
        "colab": {
          "base_uri": "https://localhost:8080/"
        },
        "id": "tQHWWCJvWfbV",
        "outputId": "3a2558b1-8453-498e-c7dc-620d3123fa33"
      },
      "source": [
        "weights = nx.communicability_betweenness_centrality(H_master)\r\n",
        "centrality_to_portfolio_weights(weights)"
      ],
      "execution_count": 21,
      "outputs": [
        {
          "output_type": "execute_result",
          "data": {
            "text/plain": [
              "{'AAPL': 0.43,\n",
              " 'ADBE': 0.053,\n",
              " 'AMZN': 0.053,\n",
              " 'COST': 0.053,\n",
              " 'DIS': 0.053,\n",
              " 'DPZ': 0.053,\n",
              " 'FB': 0.053,\n",
              " 'GOOG': 0.049,\n",
              " 'MA': 0.049,\n",
              " 'MSFT': 0.053,\n",
              " 'PYPL': 0.049,\n",
              " 'V': 0.053}"
            ]
          },
          "metadata": {
            "tags": []
          },
          "execution_count": 21
        }
      ]
    },
    {
      "cell_type": "code",
      "metadata": {
        "id": "pI6oBN0-I_jh"
      },
      "source": [
        "capital = float(api.get_account().portfolio_value)\r\n",
        "\r\n",
        "alloc = discrete_allocation.DiscreteAllocation(\r\n",
        "    weights, \r\n",
        "    df_buy_in['Buy In'], \r\n",
        "    total_portfolio_value=capital\r\n",
        ")\r\n",
        "\r\n",
        "alloc = alloc.greedy_portfolio()[0]\r\n",
        "\r\n",
        "\r\n",
        "alloc_series = pd.Series(alloc, name='Desired Shares')\r\n",
        "alloc_series.index.name = 'Assets'\r\n",
        "alloc_series.reset_index\r\n",
        "df_alloc = alloc_series.sort_index().to_frame('Shares')"
      ],
      "execution_count": 47,
      "outputs": []
    },
    {
      "cell_type": "code",
      "metadata": {
        "colab": {
          "base_uri": "https://localhost:8080/"
        },
        "id": "RdlrOE7_e7xV",
        "outputId": "ae3a04ff-f537-4c0d-9994-72e24e7abdda"
      },
      "source": [
        "test = pd.DataFrame(df_alloc.values*df_buy_in.values,columns=[\"Total Price\"], index=df_alloc.index)\r\n",
        "\r\n",
        "allocation = pd.concat([df_alloc,df_buy_in,test],axis=1)\r\n",
        "print(allocation)\r\n",
        "\r\n",
        "print(\"\\n\")\r\n",
        "\r\n",
        "counter = 0\r\n",
        "for i in range(0, len(test[0:])):\r\n",
        "  counter += test.iloc[i,0]\r\n",
        "  print(counter)"
      ],
      "execution_count": 48,
      "outputs": [
        {
          "output_type": "stream",
          "text": [
            "        Shares       Buy In   Total Price\n",
            "Assets                                   \n",
            "AAPL       115   372.649994  42854.749298\n",
            "ADBE        15   354.470001   5317.050018\n",
            "AMZN        41   127.830002   5241.030075\n",
            "COST        26   201.660004   5243.160095\n",
            "DIS          2  1790.859985   3581.719971\n",
            "DPZ         16   325.940002   5215.040039\n",
            "FB          22   247.250000   5439.500000\n",
            "GOOG         2  3120.760010   6241.520020\n",
            "MA          11   456.500000   5021.500000\n",
            "MSFT        31   172.259995   5340.059830\n",
            "PYPL        23   216.440002   4978.120056\n",
            "V           20   261.100006   5222.000122\n",
            "\n",
            "\n",
            "42854.7492980957\n",
            "48171.79931640625\n",
            "53412.82939147949\n",
            "58655.989486694336\n",
            "62237.70945739746\n",
            "67452.74949645996\n",
            "72892.24949645996\n",
            "79133.76951599121\n",
            "84155.26951599121\n",
            "89495.32934570312\n",
            "94473.44940185547\n",
            "99695.44952392578\n"
          ],
          "name": "stdout"
        }
      ]
    },
    {
      "cell_type": "code",
      "metadata": {
        "colab": {
          "base_uri": "https://localhost:8080/",
          "height": 222
        },
        "id": "CqG0NvIsqsY4",
        "outputId": "2fee5480-4e30-429a-9ed0-3ac775fe0f5b"
      },
      "source": [
        "portfolio = api.list_positions()\r\n",
        "\r\n",
        "df_current = pd.DataFrame(columns = ['Assets', 'Current Shares']) \r\n",
        "\r\n",
        "for i in range(len(portfolio)):\r\n",
        "  #portfolio[i].side\r\n",
        "  print(portfolio[i].symbol, portfolio[i].qty)\r\n",
        "  df_current = df_current.append({'Assets':portfolio[i].symbol,'Current Shares':float(portfolio[i].qty)}, ignore_index=True)\r\n",
        "df_current = df_current.set_index(\"Assets\")\r\n",
        "df_current"
      ],
      "execution_count": 31,
      "outputs": [
        {
          "output_type": "stream",
          "text": [
            "MSFT 1\n",
            "AMZN 1\n",
            "AAPL 1\n"
          ],
          "name": "stdout"
        },
        {
          "output_type": "execute_result",
          "data": {
            "text/html": [
              "<div>\n",
              "<style scoped>\n",
              "    .dataframe tbody tr th:only-of-type {\n",
              "        vertical-align: middle;\n",
              "    }\n",
              "\n",
              "    .dataframe tbody tr th {\n",
              "        vertical-align: top;\n",
              "    }\n",
              "\n",
              "    .dataframe thead th {\n",
              "        text-align: right;\n",
              "    }\n",
              "</style>\n",
              "<table border=\"1\" class=\"dataframe\">\n",
              "  <thead>\n",
              "    <tr style=\"text-align: right;\">\n",
              "      <th></th>\n",
              "      <th>Current Shares</th>\n",
              "    </tr>\n",
              "    <tr>\n",
              "      <th>Assets</th>\n",
              "      <th></th>\n",
              "    </tr>\n",
              "  </thead>\n",
              "  <tbody>\n",
              "    <tr>\n",
              "      <th>MSFT</th>\n",
              "      <td>1.0</td>\n",
              "    </tr>\n",
              "    <tr>\n",
              "      <th>AMZN</th>\n",
              "      <td>1.0</td>\n",
              "    </tr>\n",
              "    <tr>\n",
              "      <th>AAPL</th>\n",
              "      <td>1.0</td>\n",
              "    </tr>\n",
              "  </tbody>\n",
              "</table>\n",
              "</div>"
            ],
            "text/plain": [
              "        Current Shares\n",
              "Assets                \n",
              "MSFT               1.0\n",
              "AMZN               1.0\n",
              "AAPL               1.0"
            ]
          },
          "metadata": {
            "tags": []
          },
          "execution_count": 31
        }
      ]
    },
    {
      "cell_type": "code",
      "metadata": {
        "id": "VL15SkTlsLrE"
      },
      "source": [
        "reconcil_df = pd.concat([df_alloc, df_current], axis=1).fillna(0)\r\n",
        "reconcil_df['Qty Diff'] = reconcil_df['Shares'] - reconcil_df['Current Shares']\r\n",
        "reconcil_df = reconcil_df.sort_values(by=\"Qty Diff\")"
      ],
      "execution_count": 32,
      "outputs": []
    },
    {
      "cell_type": "code",
      "metadata": {
        "colab": {
          "base_uri": "https://localhost:8080/"
        },
        "id": "vpPOt26C1icd",
        "outputId": "1397c51e-2ae5-4ba1-b719-adaf32fdeabc"
      },
      "source": [
        "for i in range(0, len(reconcil_df)):\r\n",
        "  symbol = reconcil_df['Qty Diff'].index[i]\r\n",
        "  qty = abs(reconcil_df['Qty Diff'][i])\r\n",
        "  if reconcil_df['Qty Diff'][i]>0:\r\n",
        "    side = 'buy'\r\n",
        "  else:\r\n",
        "    side = 'sell'\r\n",
        "  type = 'market'\r\n",
        "  time_in_force = 'gtc'\r\n",
        "  #create_order(symbol, qty, side, type, time_in_force)\r\n",
        "  print(symbol, qty, side, type, time_in_force)\r\n"
      ],
      "execution_count": 35,
      "outputs": [
        {
          "output_type": "stream",
          "text": [
            "DIS 2.0 buy market gtc\n",
            "GOOG 2.0 buy market gtc\n",
            "MA 11.0 buy market gtc\n",
            "ADBE 15.0 buy market gtc\n",
            "DPZ 16.0 buy market gtc\n",
            "V 20.0 buy market gtc\n",
            "FB 22.0 buy market gtc\n",
            "PYPL 23.0 buy market gtc\n",
            "COST 26.0 buy market gtc\n",
            "MSFT 30.0 buy market gtc\n",
            "AMZN 40.0 buy market gtc\n",
            "AAPL 114.0 buy market gtc\n"
          ],
          "name": "stdout"
        }
      ]
    }
  ]
}